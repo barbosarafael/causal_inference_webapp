{
 "cells": [
  {
   "attachments": {},
   "cell_type": "markdown",
   "metadata": {},
   "source": [
    "# Uplift modeling\n",
    "\n"
   ]
  },
  {
   "attachments": {},
   "cell_type": "markdown",
   "metadata": {},
   "source": [
    "## 0. Setup "
   ]
  },
  {
   "cell_type": "code",
   "execution_count": 7,
   "metadata": {},
   "outputs": [],
   "source": [
    "from functions import *"
   ]
  },
  {
   "attachments": {},
   "cell_type": "markdown",
   "metadata": {},
   "source": [
    "## 1. Dados"
   ]
  },
  {
   "cell_type": "code",
   "execution_count": 8,
   "metadata": {},
   "outputs": [
    {
     "name": "stdout",
     "output_type": "stream",
     "text": [
      "Downloading data\n",
      "Reading data\n",
      "Finished\n"
     ]
    }
   ],
   "source": [
    "dados = get_uplift_data()"
   ]
  },
  {
   "cell_type": "code",
   "execution_count": 9,
   "metadata": {},
   "outputs": [
    {
     "data": {
      "text/html": [
       "<div><style>\n",
       ".dataframe > thead > tr > th,\n",
       ".dataframe > tbody > tr > td {\n",
       "  text-align: right;\n",
       "}\n",
       "</style>\n",
       "<small>shape: (10, 16)</small><table border=\"1\" class=\"dataframe\"><thead><tr><th>f0</th><th>f1</th><th>f2</th><th>f3</th><th>f4</th><th>f5</th><th>f6</th><th>f7</th><th>f8</th><th>f9</th><th>f10</th><th>f11</th><th>treatment</th><th>conversion</th><th>visit</th><th>exposure</th></tr><tr><td>f64</td><td>f64</td><td>f64</td><td>f64</td><td>f64</td><td>f64</td><td>f64</td><td>f64</td><td>f64</td><td>f64</td><td>f64</td><td>f64</td><td>i64</td><td>i64</td><td>i64</td><td>i64</td></tr></thead><tbody><tr><td>12.616365</td><td>10.059654</td><td>8.976429</td><td>4.679882</td><td>10.280525</td><td>4.115453</td><td>0.294443</td><td>4.833815</td><td>3.955396</td><td>13.190056</td><td>5.300375</td><td>-0.168679</td><td>1</td><td>0</td><td>0</td><td>0</td></tr><tr><td>12.616365</td><td>10.059654</td><td>9.002689</td><td>4.679882</td><td>10.280525</td><td>4.115453</td><td>0.294443</td><td>4.833815</td><td>3.955396</td><td>13.190056</td><td>5.300375</td><td>-0.168679</td><td>1</td><td>0</td><td>0</td><td>0</td></tr><tr><td>12.616365</td><td>10.059654</td><td>8.964775</td><td>4.679882</td><td>10.280525</td><td>4.115453</td><td>0.294443</td><td>4.833815</td><td>3.955396</td><td>13.190056</td><td>5.300375</td><td>-0.168679</td><td>1</td><td>0</td><td>0</td><td>0</td></tr><tr><td>12.616365</td><td>10.059654</td><td>9.002801</td><td>4.679882</td><td>10.280525</td><td>4.115453</td><td>0.294443</td><td>4.833815</td><td>3.955396</td><td>13.190056</td><td>5.300375</td><td>-0.168679</td><td>1</td><td>0</td><td>0</td><td>0</td></tr><tr><td>12.616365</td><td>10.059654</td><td>9.037999</td><td>4.679882</td><td>10.280525</td><td>4.115453</td><td>0.294443</td><td>4.833815</td><td>3.955396</td><td>13.190056</td><td>5.300375</td><td>-0.168679</td><td>1</td><td>0</td><td>0</td><td>0</td></tr><tr><td>12.616365</td><td>10.059654</td><td>8.904507</td><td>4.679882</td><td>10.280525</td><td>4.115453</td><td>0.294443</td><td>4.833815</td><td>3.955396</td><td>13.190056</td><td>5.300375</td><td>-0.168679</td><td>1</td><td>0</td><td>0</td><td>0</td></tr><tr><td>12.616365</td><td>10.059654</td><td>8.78334</td><td>4.679882</td><td>10.280525</td><td>4.115453</td><td>0.294443</td><td>4.833815</td><td>3.955396</td><td>13.190056</td><td>5.300375</td><td>-0.168679</td><td>1</td><td>0</td><td>0</td><td>0</td></tr><tr><td>12.616365</td><td>10.059654</td><td>8.964528</td><td>4.679882</td><td>10.280525</td><td>4.115453</td><td>0.294443</td><td>4.833815</td><td>3.955396</td><td>13.190056</td><td>5.300375</td><td>-0.168679</td><td>1</td><td>0</td><td>0</td><td>0</td></tr><tr><td>12.616365</td><td>10.059654</td><td>9.037809</td><td>4.679882</td><td>10.280525</td><td>4.115453</td><td>0.294443</td><td>4.833815</td><td>3.955396</td><td>13.190056</td><td>5.300375</td><td>-0.168679</td><td>1</td><td>0</td><td>0</td><td>0</td></tr><tr><td>12.616365</td><td>10.059654</td><td>9.015128</td><td>4.679882</td><td>10.280525</td><td>4.115453</td><td>0.294443</td><td>4.833815</td><td>3.955396</td><td>13.190056</td><td>5.300375</td><td>-0.168679</td><td>1</td><td>0</td><td>0</td><td>0</td></tr></tbody></table></div>"
      ],
      "text/plain": [
       "shape: (10, 16)\n",
       "┌───────────┬───────────┬──────────┬──────────┬─────┬───────────┬────────────┬───────┬──────────┐\n",
       "│ f0        ┆ f1        ┆ f2       ┆ f3       ┆ ... ┆ treatment ┆ conversion ┆ visit ┆ exposure │\n",
       "│ ---       ┆ ---       ┆ ---      ┆ ---      ┆     ┆ ---       ┆ ---        ┆ ---   ┆ ---      │\n",
       "│ f64       ┆ f64       ┆ f64      ┆ f64      ┆     ┆ i64       ┆ i64        ┆ i64   ┆ i64      │\n",
       "╞═══════════╪═══════════╪══════════╪══════════╪═════╪═══════════╪════════════╪═══════╪══════════╡\n",
       "│ 12.616365 ┆ 10.059654 ┆ 8.976429 ┆ 4.679882 ┆ ... ┆ 1         ┆ 0          ┆ 0     ┆ 0        │\n",
       "│ 12.616365 ┆ 10.059654 ┆ 9.002689 ┆ 4.679882 ┆ ... ┆ 1         ┆ 0          ┆ 0     ┆ 0        │\n",
       "│ 12.616365 ┆ 10.059654 ┆ 8.964775 ┆ 4.679882 ┆ ... ┆ 1         ┆ 0          ┆ 0     ┆ 0        │\n",
       "│ 12.616365 ┆ 10.059654 ┆ 9.002801 ┆ 4.679882 ┆ ... ┆ 1         ┆ 0          ┆ 0     ┆ 0        │\n",
       "│ ...       ┆ ...       ┆ ...      ┆ ...      ┆ ... ┆ ...       ┆ ...        ┆ ...   ┆ ...      │\n",
       "│ 12.616365 ┆ 10.059654 ┆ 8.78334  ┆ 4.679882 ┆ ... ┆ 1         ┆ 0          ┆ 0     ┆ 0        │\n",
       "│ 12.616365 ┆ 10.059654 ┆ 8.964528 ┆ 4.679882 ┆ ... ┆ 1         ┆ 0          ┆ 0     ┆ 0        │\n",
       "│ 12.616365 ┆ 10.059654 ┆ 9.037809 ┆ 4.679882 ┆ ... ┆ 1         ┆ 0          ┆ 0     ┆ 0        │\n",
       "│ 12.616365 ┆ 10.059654 ┆ 9.015128 ┆ 4.679882 ┆ ... ┆ 1         ┆ 0          ┆ 0     ┆ 0        │\n",
       "└───────────┴───────────┴──────────┴──────────┴─────┴───────────┴────────────┴───────┴──────────┘"
      ]
     },
     "execution_count": 9,
     "metadata": {},
     "output_type": "execute_result"
    }
   ],
   "source": [
    "dados.head(10)"
   ]
  },
  {
   "cell_type": "code",
   "execution_count": 10,
   "metadata": {},
   "outputs": [
    {
     "data": {
      "text/html": [
       "<div><style>\n",
       ".dataframe > thead > tr > th,\n",
       ".dataframe > tbody > tr > td {\n",
       "  text-align: right;\n",
       "}\n",
       "</style>\n",
       "<small>shape: (7, 17)</small><table border=\"1\" class=\"dataframe\"><thead><tr><th>describe</th><th>f0</th><th>f1</th><th>f2</th><th>f3</th><th>f4</th><th>f5</th><th>f6</th><th>f7</th><th>f8</th><th>f9</th><th>f10</th><th>f11</th><th>treatment</th><th>conversion</th><th>visit</th><th>exposure</th></tr><tr><td>str</td><td>f64</td><td>f64</td><td>f64</td><td>f64</td><td>f64</td><td>f64</td><td>f64</td><td>f64</td><td>f64</td><td>f64</td><td>f64</td><td>f64</td><td>f64</td><td>f64</td><td>f64</td><td>f64</td></tr></thead><tbody><tr><td>&quot;count&quot;</td><td>1.3979592e7</td><td>1.3979592e7</td><td>1.3979592e7</td><td>1.3979592e7</td><td>1.3979592e7</td><td>1.3979592e7</td><td>1.3979592e7</td><td>1.3979592e7</td><td>1.3979592e7</td><td>1.3979592e7</td><td>1.3979592e7</td><td>1.3979592e7</td><td>1.3979592e7</td><td>1.3979592e7</td><td>1.3979592e7</td><td>1.3979592e7</td></tr><tr><td>&quot;null_count&quot;</td><td>0.0</td><td>0.0</td><td>0.0</td><td>0.0</td><td>0.0</td><td>0.0</td><td>0.0</td><td>0.0</td><td>0.0</td><td>0.0</td><td>0.0</td><td>0.0</td><td>0.0</td><td>0.0</td><td>0.0</td><td>0.0</td></tr><tr><td>&quot;mean&quot;</td><td>19.620297</td><td>10.069977</td><td>8.446582</td><td>4.178923</td><td>10.338837</td><td>4.028513</td><td>-4.155356</td><td>5.101765</td><td>3.933581</td><td>16.027638</td><td>5.333396</td><td>-0.170967</td><td>0.85</td><td>0.002917</td><td>0.046992</td><td>0.030631</td></tr><tr><td>&quot;std&quot;</td><td>5.377464</td><td>0.104756</td><td>0.299316</td><td>1.336645</td><td>0.343308</td><td>0.431097</td><td>4.577914</td><td>1.205248</td><td>0.05666</td><td>7.018975</td><td>0.168229</td><td>0.022833</td><td>0.357071</td><td>0.053927</td><td>0.211622</td><td>0.172316</td></tr><tr><td>&quot;min&quot;</td><td>12.616365</td><td>10.059654</td><td>8.214383</td><td>-8.398387</td><td>10.280525</td><td>-9.011892</td><td>-31.429784</td><td>4.833815</td><td>3.635107</td><td>13.190056</td><td>5.300375</td><td>-1.383941</td><td>0.0</td><td>0.0</td><td>0.0</td><td>0.0</td></tr><tr><td>&quot;max&quot;</td><td>26.745255</td><td>16.344187</td><td>9.051962</td><td>4.679882</td><td>21.123508</td><td>4.115453</td><td>0.294443</td><td>11.998401</td><td>3.971858</td><td>75.295017</td><td>6.473917</td><td>-0.168679</td><td>1.0</td><td>1.0</td><td>1.0</td><td>1.0</td></tr><tr><td>&quot;median&quot;</td><td>21.923413</td><td>10.059654</td><td>8.214383</td><td>4.679882</td><td>10.280525</td><td>4.115453</td><td>-2.411115</td><td>4.833815</td><td>3.971858</td><td>13.190056</td><td>5.300375</td><td>-0.168679</td><td>1.0</td><td>0.0</td><td>0.0</td><td>0.0</td></tr></tbody></table></div>"
      ],
      "text/plain": [
       "shape: (7, 17)\n",
       "┌───────────┬───────────┬───────────┬───────────┬─────┬─────────┬──────────┬───────────┬───────────┐\n",
       "│ describe  ┆ f0        ┆ f1        ┆ f2        ┆ ... ┆ treatme ┆ conversi ┆ visit     ┆ exposure  │\n",
       "│ ---       ┆ ---       ┆ ---       ┆ ---       ┆     ┆ nt      ┆ on       ┆ ---       ┆ ---       │\n",
       "│ str       ┆ f64       ┆ f64       ┆ f64       ┆     ┆ ---     ┆ ---      ┆ f64       ┆ f64       │\n",
       "│           ┆           ┆           ┆           ┆     ┆ f64     ┆ f64      ┆           ┆           │\n",
       "╞═══════════╪═══════════╪═══════════╪═══════════╪═════╪═════════╪══════════╪═══════════╪═══════════╡\n",
       "│ count     ┆ 1.3979592 ┆ 1.3979592 ┆ 1.3979592 ┆ ... ┆ 1.39795 ┆ 1.397959 ┆ 1.3979592 ┆ 1.3979592 │\n",
       "│           ┆ e7        ┆ e7        ┆ e7        ┆     ┆ 92e7    ┆ 2e7      ┆ e7        ┆ e7        │\n",
       "│ null_coun ┆ 0.0       ┆ 0.0       ┆ 0.0       ┆ ... ┆ 0.0     ┆ 0.0      ┆ 0.0       ┆ 0.0       │\n",
       "│ t         ┆           ┆           ┆           ┆     ┆         ┆          ┆           ┆           │\n",
       "│ mean      ┆ 19.620297 ┆ 10.069977 ┆ 8.446582  ┆ ... ┆ 0.85    ┆ 0.002917 ┆ 0.046992  ┆ 0.030631  │\n",
       "│ std       ┆ 5.377464  ┆ 0.104756  ┆ 0.299316  ┆ ... ┆ 0.35707 ┆ 0.053927 ┆ 0.211622  ┆ 0.172316  │\n",
       "│           ┆           ┆           ┆           ┆     ┆ 1       ┆          ┆           ┆           │\n",
       "│ min       ┆ 12.616365 ┆ 10.059654 ┆ 8.214383  ┆ ... ┆ 0.0     ┆ 0.0      ┆ 0.0       ┆ 0.0       │\n",
       "│ max       ┆ 26.745255 ┆ 16.344187 ┆ 9.051962  ┆ ... ┆ 1.0     ┆ 1.0      ┆ 1.0       ┆ 1.0       │\n",
       "│ median    ┆ 21.923413 ┆ 10.059654 ┆ 8.214383  ┆ ... ┆ 1.0     ┆ 0.0      ┆ 0.0       ┆ 0.0       │\n",
       "└───────────┴───────────┴───────────┴───────────┴─────┴─────────┴──────────┴───────────┴───────────┘"
      ]
     },
     "execution_count": 10,
     "metadata": {},
     "output_type": "execute_result"
    }
   ],
   "source": [
    "dados.describe()"
   ]
  },
  {
   "attachments": {},
   "cell_type": "markdown",
   "metadata": {},
   "source": [
    "## X. Referências\n",
    "\n",
    "### X.1. Teóricas:\n",
    "\n",
    "- [Modelagem Uplift, para que serve?](https://medium.com/@oristides/modelagem-uplift-para-que-serve-3fac2be12515) \n",
    "- [Uplift Modeling (PT-BR)](https://medium.com/@oristides/modelagem-uplift-para-que-serve-3fac2be12515) \n",
    "- [What is Uplift modelling and how can it be done with CausalML?](https://analyticsindiamag.com/what-is-uplift-modelling-and-how-can-it-be-done-with-causalml/#:~:text=Uplift%20modeling%20is%20a%20causal,action\\)%20on%20an%20individual's%20behaviour.) \n",
    "- [Uplift Modeling: A Quick Introduction](https://towardsdatascience.com/a-quick-uplift-modeling-introduction-6e14de32bfe0) \n",
    "- [How uplift modeling works](https://www.ambiata.com/blog/2020-07-07-uplift-modeling/) \n",
    "- [PyConDE & PyData Berlin 2022: Introduction to Uplift Modeling](https://juanitorduz.github.io/uplift/) \n",
    "- [A quick guide to machine learning uplift models](https://practicaldatascience.co.uk/machine-learning/a-quick-guide-to-machine-learning-uplift-models)\n",
    "  \n",
    "TO-DO: Mudar alguns que umas referências que práticas mas estão na sessão teórica\n",
    "\n",
    "\n",
    "### X.2. Práticas:\n"
   ]
  }
 ],
 "metadata": {
  "kernelspec": {
   "display_name": "venv",
   "language": "python",
   "name": "python3"
  },
  "language_info": {
   "codemirror_mode": {
    "name": "ipython",
    "version": 3
   },
   "file_extension": ".py",
   "mimetype": "text/x-python",
   "name": "python",
   "nbconvert_exporter": "python",
   "pygments_lexer": "ipython3",
   "version": "3.10.6"
  },
  "orig_nbformat": 4,
  "vscode": {
   "interpreter": {
    "hash": "c64b61899ea473ed57b9741140a54cccff152920fed69f6f22155dd28f9d1f2c"
   }
  }
 },
 "nbformat": 4,
 "nbformat_minor": 2
}
